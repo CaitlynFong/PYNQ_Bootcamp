{
 "cells": [
  {
   "cell_type": "markdown",
   "id": "61765a8a",
   "metadata": {},
   "source": [
    "# Wifi Setup\n",
    "\n",
    "This notebook walks through how to setup for connection currently (and in the future, after reboots) to a wifi network.\n",
    "\n",
    "This notebook assumes you have a wifi dongle plugged into your board."
   ]
  },
  {
   "cell_type": "markdown",
   "id": "65a42d5e",
   "metadata": {},
   "source": [
    "#### Helper Functions\n",
    "Below are helper and library imports that we will use to setup the wifi."
   ]
  },
  {
   "cell_type": "code",
   "execution_count": null,
   "id": "9261d799",
   "metadata": {},
   "outputs": [],
   "source": [
    "import subprocess as sp\n",
    "import json, os\n",
    "\n",
    "def get_interface():\n",
    "    interface = sp.getoutput(\"ifconfig | awk '$1 ~ /^wl/ {print $1}' | rev | cut -c 2- | rev\")\n",
    "    return interface\n",
    "\n",
    "def get_ip(interface: str):\n",
    "    ip_addr = sp.getoutput(f\"ifconfig \" + interface + \" | grep 'inet ' | cut -f1 | awk '{ print $2 }'\")\n",
    "    return ip_addr"
   ]
  },
  {
   "cell_type": "markdown",
   "id": "be8dd436",
   "metadata": {},
   "source": [
    "#### Please enter some information about your wifi"
   ]
  },
  {
   "cell_type": "code",
   "execution_count": null,
   "id": "bf59efb7",
   "metadata": {},
   "outputs": [],
   "source": [
    "ssid = input(\"Type in the SSID:\")\n",
    "pwd = input(\"Type in the password:\")"
   ]
  },
  {
   "cell_type": "markdown",
   "id": "973643b3",
   "metadata": {},
   "source": [
    "#### Now we will connect the board to your wifi\n",
    "\n",
    "Note that you may see a lot of output!"
   ]
  },
  {
   "cell_type": "code",
   "execution_count": null,
   "id": "ceed78f4",
   "metadata": {},
   "outputs": [],
   "source": [
    "# Call the network config script\n",
    "cmd = \"cd /home/ubuntu/kria-wifi && sudo ./setup.sh '\" + ssid + \"' '\" + pwd + \"'\"\n",
    "print(\"Running: \" + cmd)\n",
    "output = sp.getoutput(cmd)\n",
    "lines = output.split(\"\\n\")\n",
    "for l in lines:\n",
    "    print(l)"
   ]
  },
  {
   "cell_type": "markdown",
   "id": "b5ea2721",
   "metadata": {},
   "source": [
    "#### Check Connectivity and Get IP Address and Interface\n",
    "\n",
    "Note that if you got an error here, you probably did not connect correctly for some reason and should troubleshoot! You may also need to a wait a minute before an IP address is assigned."
   ]
  },
  {
   "cell_type": "code",
   "execution_count": null,
   "id": "7fd4e344",
   "metadata": {},
   "outputs": [],
   "source": [
    "my_interface = get_interface()\n",
    "my_ip = get_ip(my_interface)\n",
    "print(f\"My interface is {my_interface} and my IP is {my_ip}\")"
   ]
  },
  {
   "cell_type": "markdown",
   "id": "02e327e8",
   "metadata": {},
   "source": [
    "# OLED IP Address Display Setup\n",
    "\n",
    "Now we will install a service that will print the IP address assigned to the wifi interface every time the board boots up, assuming there is an OLED display attached.\n",
    "\n",
    "Please note you only need to do this once per board setup, not once per wifi setup!"
   ]
  },
  {
   "cell_type": "code",
   "execution_count": null,
   "id": "2bb7cc11",
   "metadata": {},
   "outputs": [],
   "source": [
    "cmd = \"cd /home/ubuntu/show-kria-ip && sudo ./setup.sh\"\n",
    "print(\"Running: \" + cmd)\n",
    "output = sp.getoutput(cmd)\n",
    "lines = output.split(\"\\n\")\n",
    "for l in lines:\n",
    "    print(l)"
   ]
  },
  {
   "cell_type": "code",
   "execution_count": null,
   "id": "ea7fac0f",
   "metadata": {},
   "outputs": [],
   "source": []
  }
 ],
 "metadata": {
  "kernelspec": {
   "display_name": "Python 3 (ipykernel)",
   "language": "python",
   "name": "python3"
  },
  "language_info": {
   "codemirror_mode": {
    "name": "ipython",
    "version": 3
   },
   "file_extension": ".py",
   "mimetype": "text/x-python",
   "name": "python",
   "nbconvert_exporter": "python",
   "pygments_lexer": "ipython3",
   "version": "3.10.12"
  }
 },
 "nbformat": 4,
 "nbformat_minor": 5
}
